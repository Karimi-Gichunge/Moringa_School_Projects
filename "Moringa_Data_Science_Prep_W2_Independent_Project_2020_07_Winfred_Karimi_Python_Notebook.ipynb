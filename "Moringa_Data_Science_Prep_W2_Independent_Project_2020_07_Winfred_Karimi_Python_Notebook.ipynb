{
  "nbformat": 4,
  "nbformat_minor": 0,
  "metadata": {
    "colab": {
      "name": "\"Moringa_Data_Science_Prep_W2_Independent_Project_2020_07_Winfred_Karimi_Python_Notebook",
      "provenance": [],
      "collapsed_sections": [],
      "authorship_tag": "ABX9TyOFSmbCUATPr0mlGjoj52hn",
      "include_colab_link": true
    },
    "kernelspec": {
      "name": "python3",
      "display_name": "Python 3"
    }
  },
  "cells": [
    {
      "cell_type": "markdown",
      "metadata": {
        "id": "view-in-github",
        "colab_type": "text"
      },
      "source": [
        "<a href=\"https://colab.research.google.com/github/Karimi-Gichunge/Moringa_School_Projects/blob/master/%22Moringa_Data_Science_Prep_W2_Independent_Project_2020_07_Winfred_Karimi_Python_Notebook.ipynb\" target=\"_parent\"><img src=\"https://colab.research.google.com/assets/colab-badge.svg\" alt=\"Open In Colab\"/></a>"
      ]
    },
    {
      "cell_type": "code",
      "metadata": {
        "id": "SvyRRiz76MDA",
        "colab_type": "code",
        "colab": {
          "base_uri": "https://localhost:8080/",
          "height": 55
        },
        "outputId": "06f193f0-9507-4049-c808-b18f72e99599"
      },
      "source": [
        "#this is the given contact_book dictionary. \n",
        "#The dictionary has the following initial contacts as keys and values.\n",
        "contact_book = {'Parul' : 'parul@moringa.org',\n",
        "\n",
        "        'Thomas' : 'thomas@moringa.org',\n",
        "\n",
        "        'Ashley' : 'ashley@moringa.org',\n",
        "\n",
        "        'Kellen' : 'kellen@moringa.org',\n",
        "\n",
        "        'June' : 'june@moringa.org',\n",
        "\n",
        "        'Joseph' : 'joe@moringa.org',\n",
        "\n",
        "        'Lillian' : 'lillian@moringa.org',\n",
        "\n",
        "        'Arnold' : 'arnold@moringa.org' \n",
        "}\n",
        "print(contact_book)"
      ],
      "execution_count": null,
      "outputs": [
        {
          "output_type": "stream",
          "text": [
            "{'Parul': 'parul@moringa.org', 'Thomas': 'thomas@moringa.org', 'Ashley': 'ashley@moringa.org', 'Kellen': 'kellen@moringa.org', 'June': 'june@moringa.org', 'Joseph': 'joe@moringa.org', 'Lillian': 'lillian@moringa.org', 'Arnold': 'arnold@moringa.org'}\n"
          ],
          "name": "stdout"
        }
      ]
    },
    {
      "cell_type": "code",
      "metadata": {
        "id": "GZjjXzbp8elv",
        "colab_type": "code",
        "colab": {
          "base_uri": "https://localhost:8080/",
          "height": 55
        },
        "outputId": "d35cc67c-9948-4894-abff-3210e249c74c"
      },
      "source": [
        "#Question_1\n",
        "#Delete a contact from the dictionary \n",
        "#when the user specifies its key \n",
        "#We will use the pop function\n",
        "#say user specifies to remove the key Lillian, then\n",
        "\n",
        "#remove the contact Lillian\n",
        "contact_book.pop('Lillian')\n",
        "#print new contact_book\n",
        "print(contact_book)"
      ],
      "execution_count": null,
      "outputs": [
        {
          "output_type": "stream",
          "text": [
            "{'Parul': 'parul@moringa.org', 'Thomas': 'thomas@moringa.org', 'Ashley': 'ashley@moringa.org', 'Kellen': 'kellen@moringa.org', 'June': 'june@moringa.org', 'Joseph': 'joe@moringa.org', 'Arnold': 'arnold@moringa.org'}\n"
          ],
          "name": "stdout"
        }
      ]
    },
    {
      "cell_type": "code",
      "metadata": {
        "id": "iRm5oGJLhkgZ",
        "colab_type": "code",
        "colab": {
          "base_uri": "https://localhost:8080/",
          "height": 54
        },
        "outputId": "9e28d30f-86bf-4851-d65e-567ff87ed076"
      },
      "source": [
        "#Question_2\n",
        "#Print out the first 2 contacts.\n",
        "contact_book = {'Parul' : 'parul@moringa.org',\n",
        "\n",
        "        'Thomas' : 'thomas@moringa.org',\n",
        "\n",
        "        'Ashley' : 'ashley@moringa.org',\n",
        "\n",
        "        'Kellen' : 'kellen@moringa.org',\n",
        "\n",
        "        'June' : 'june@moringa.org',\n",
        "\n",
        "        'Joseph' : 'joe@moringa.org',\n",
        "\n",
        "        'Lillian' : 'lillian@moringa.org',\n",
        "\n",
        "        'Arnold' : 'arnold@moringa.org' \n",
        "}\n",
        "#Since the dictionary is unordered we access every contact independently\n",
        "Parul = contact_book[\"Parul\"]\n",
        "print(Parul)\n",
        "Thomas = contact_book[\"Thomas\"]\n",
        "print(Thomas)\n"
      ],
      "execution_count": null,
      "outputs": [
        {
          "output_type": "stream",
          "text": [
            "parul@moringa.org\n",
            "thomas@moringa.org\n"
          ],
          "name": "stdout"
        }
      ]
    },
    {
      "cell_type": "code",
      "metadata": {
        "id": "UJaN1i7UYYnY",
        "colab_type": "code",
        "colab": {
          "base_uri": "https://localhost:8080/",
          "height": 35
        },
        "outputId": "f300a8be-58cd-45c9-ba5a-a47427545ba1"
      },
      "source": [
        "dict_items = contact_book.items()\n",
        "first2 = list(dict_items)[:2]\n",
        "print(first2)"
      ],
      "execution_count": null,
      "outputs": [
        {
          "output_type": "stream",
          "text": [
            "[('Parul', 'parul@moringa.org'), ('Thomas', 'thomas@moringa.org')]\n"
          ],
          "name": "stdout"
        }
      ]
    },
    {
      "cell_type": "code",
      "metadata": {
        "id": "NeIjDeKZjIN6",
        "colab_type": "code",
        "colab": {
          "base_uri": "https://localhost:8080/",
          "height": 74
        },
        "outputId": "f5f6953d-8379-43b7-b802-5f89f4f862fa"
      },
      "source": [
        "#Display the total no. of contacts left in the dictionary\n",
        "#First remove the first two contacts of the dictionary\n",
        "#then count the number of contacts in the dictionary\n",
        "contact_book = {'Parul' : 'parul@moringa.org',\n",
        "\n",
        "        'Thomas' : 'thomas@moringa.org',\n",
        "\n",
        "        'Ashley' : 'ashley@moringa.org',\n",
        "\n",
        "        'Kellen' : 'kellen@moringa.org',\n",
        "\n",
        "        'June' : 'june@moringa.org',\n",
        "\n",
        "        'Joseph' : 'joe@moringa.org',\n",
        "\n",
        "        'Lillian' : 'lillian@moringa.org',\n",
        "\n",
        "        'Arnold' : 'arnold@moringa.org' \n",
        "}\n",
        "#Deleting the first two contacts in the dictionary\n",
        "updatedcontact_book = contact_book.pop(\"Parul\")\n",
        "updatedcontact_book1 = contact_book.pop(\"Thomas\")\n",
        "del updatedcontact_book\n",
        "del updatedcontact_book1\n",
        "#printing out the number of contacts remaining in the dictionary\n",
        "print(contact_book)\n",
        "print(len(contact_book))"
      ],
      "execution_count": null,
      "outputs": [
        {
          "output_type": "stream",
          "text": [
            "{'Ashley': 'ashley@moringa.org', 'Kellen': 'kellen@moringa.org', 'June': 'june@moringa.org', 'Joseph': 'joe@moringa.org', 'Lillian': 'lillian@moringa.org', 'Arnold': 'arnold@moringa.org'}\n",
            "6\n"
          ],
          "name": "stdout"
        }
      ]
    },
    {
      "cell_type": "code",
      "metadata": {
        "id": "OO6Ar9ScnP9-",
        "colab_type": "code",
        "colab": {
          "base_uri": "https://localhost:8080/",
          "height": 55
        },
        "outputId": "ae8cd580-269f-4364-d82d-7b38187fc048"
      },
      "source": [
        "#Question 4\n",
        "#Add 2 new contacts in the dictionary.\n",
        "#Adding each contact independently\n",
        "contact_book ['Calvin'] = 'calvin@moringa.org'\n",
        "contact_book['Abdi'] = 'abdi@moringa.org'\n",
        "print(contact_book)"
      ],
      "execution_count": null,
      "outputs": [
        {
          "output_type": "stream",
          "text": [
            "{'Ashley': 'ashley@moringa.org', 'Kellen': 'kellen@moringa.org', 'June': 'june@moringa.org', 'Joseph': 'joe@moringa.org', 'Lillian': 'lillian@moringa.org', 'Arnold': 'arnold@moringa.org', 'Calvin': 'calvin@moringa.org', 'Abdi': 'abdi@moringa.org'}\n"
          ],
          "name": "stdout"
        }
      ]
    },
    {
      "cell_type": "code",
      "metadata": {
        "id": "C99x1_UXoQRL",
        "colab_type": "code",
        "colab": {
          "base_uri": "https://localhost:8080/",
          "height": 55
        },
        "outputId": "b988d6c7-603c-46cf-967b-93ad92eec88a"
      },
      "source": [
        "#Question 5\n",
        "#Print out all the contacts\n",
        "print(contact_book)"
      ],
      "execution_count": null,
      "outputs": [
        {
          "output_type": "stream",
          "text": [
            "{'Ashley': 'ashley@moringa.org', 'Kellen': 'kellen@moringa.org', 'June': 'june@moringa.org', 'Joseph': 'joe@moringa.org', 'Lillian': 'lillian@moringa.org', 'Arnold': 'arnold@moringa.org', 'Calvin': 'calvin@moringa.org', 'Abdi': 'abdi@moringa.org'}\n"
          ],
          "name": "stdout"
        }
      ]
    }
  ]
}